{
  "nbformat": 4,
  "nbformat_minor": 0,
  "metadata": {
    "colab": {
      "name": "Kopia av inlamning2_search.ipynb",
      "provenance": [],
      "include_colab_link": true
    },
    "kernelspec": {
      "name": "python3",
      "display_name": "Python 3"
    },
    "language_info": {
      "name": "python"
    }
  },
  "cells": [
    {
      "cell_type": "markdown",
      "metadata": {
        "id": "view-in-github",
        "colab_type": "text"
      },
      "source": [
        "<a href=\"https://colab.research.google.com/github/mariaofsweden/grupp27/blob/main/Kopia_av_inlamning2_search.ipynb\" target=\"_parent\"><img src=\"https://colab.research.google.com/assets/colab-badge.svg\" alt=\"Open In Colab\"/></a>"
      ]
    },
    {
      "cell_type": "markdown",
      "metadata": {
        "id": "6W6JulqkhWG1"
      },
      "source": [
        "Detta är ett urval med funktioner från aima search.py. Ni måste inte förstå varje bit, men kolla gärna närmre på sökalgoritmerna och hur grafproblemet skapats. **I uppgiften kommer ingen definition behöva ändras, endast vad som skapas i slutet.**\n",
        "\n",
        "I denna notebook ärver klassen GraphProblem från abstrakta klassen Problem. Man skapar inte objekt av abstrakta klasser, de ärvs bara av andra klasser. Både Graph och Problem använder sig av Node-objekt. "
      ]
    },
    {
      "cell_type": "code",
      "metadata": {
        "id": "ewOyGkE6Ue8C"
      },
      "source": [
        "\"\"\"\n",
        "The way to use this code is to subclass Problem to create a class of problems,\n",
        "then create problem instances and solve them with calls to the various search\n",
        "functions.\n",
        "\"\"\"\n",
        "\n",
        "import numpy as np\n",
        "import random\n",
        "import sys\n",
        "\n",
        "from collections import deque\n",
        "from queue import PriorityQueue\n",
        "\n",
        "\n",
        "class Problem:\n",
        "    \"\"\"The abstract class for a formal problem. You should subclass\n",
        "    this and implement the methods actions and result, and possibly\n",
        "    __init__, goal_test, and path_cost. Then you will create instances\n",
        "    of your subclass and solve them with the various search functions.\"\"\"\n",
        "\n",
        "    def __init__(self, initial, goal=None):\n",
        "        \"\"\"The constructor specifies the initial state, and possibly a goal\n",
        "        state, if there is a unique goal. Your subclass's constructor can add\n",
        "        other arguments.\"\"\"\n",
        "        self.initial = initial\n",
        "        self.goal = goal\n",
        "\n",
        "    def actions(self, state):\n",
        "        \"\"\"Return the actions that can be executed in the given\n",
        "        state. The result would typically be a list, but if there are\n",
        "        many actions, consider yielding them one at a time in an\n",
        "        iterator, rather than building them all at once.\"\"\"\n",
        "        raise NotImplementedError\n",
        "\n",
        "    def result(self, state, action):\n",
        "        \"\"\"Return the state that results from executing the given\n",
        "        action in the given state. The action must be one of\n",
        "        self.actions(state).\"\"\"\n",
        "        raise NotImplementedError\n",
        "\n",
        "    def goal_test(self, state):\n",
        "        \"\"\"Return True if the state is a goal. The default method compares the\n",
        "        state to self.goal or checks for state in self.goal if it is a\n",
        "        list, as specified in the constructor. Override this method if\n",
        "        checking against a single self.goal is not enough.\"\"\"\n",
        "        if isinstance(self.goal, list):\n",
        "            return is_in(state, self.goal)\n",
        "        else:\n",
        "            return state == self.goal\n",
        "\n",
        "    def path_cost(self, c, state1, action, state2):\n",
        "        \"\"\"Return the cost of a solution path that arrives at state2 from\n",
        "        state1 via action, assuming cost c to get up to state1. If the problem\n",
        "        is such that the path doesn't matter, this function will only look at\n",
        "        state2. If the path does matter, it will consider c and maybe state1\n",
        "        and action. The default method costs 1 for every step in the path.\"\"\"\n",
        "        return c + 1\n",
        "\n",
        "    def value(self, state):\n",
        "        \"\"\"For optimization problems, each state has a value. Hill Climbing\n",
        "        and related algorithms try to maximize this value.\"\"\"\n",
        "        raise NotImplementedError\n",
        "\n",
        "\n",
        "# ______________________________________________________________________________\n",
        "\n",
        "\n",
        "class Node:\n",
        "    \"\"\"A node in a search tree. Contains a pointer to the parent (the node\n",
        "    that this is a successor of) and to the actual state for this node. Note\n",
        "    that if a state is arrived at by two paths, then there are two nodes with\n",
        "    the same state. Also includes the action that got us to this state, and\n",
        "    the total path_cost (also known as g) to reach the node. Other functions\n",
        "    may add an f and h value; see best_first_graph_search and astar_search for\n",
        "    an explanation of how the f and h values are handled. You will not need to\n",
        "    subclass this class.\"\"\"\n",
        "\n",
        "    def __init__(self, state, parent=None, action=None, path_cost=0):\n",
        "        \"\"\"Create a search tree Node, derived from a parent by an action.\"\"\"\n",
        "        self.state = state\n",
        "        self.parent = parent\n",
        "        self.action = action\n",
        "        self.path_cost = path_cost\n",
        "        self.depth = 0\n",
        "        if parent:\n",
        "            self.depth = parent.depth + 1\n",
        "\n",
        "    def __repr__(self):\n",
        "        return \"<Node {}>\".format(self.state)\n",
        "\n",
        "    def __lt__(self, node):\n",
        "        return self.state < node.state\n",
        "\n",
        "    def expand(self, problem):\n",
        "        \"\"\"List the nodes reachable in one step from this node.\"\"\"\n",
        "        return [self.child_node(problem, action)\n",
        "                for action in problem.actions(self.state)]\n",
        "\n",
        "    def child_node(self, problem, action):\n",
        "        \"\"\"[Figure 3.10]\"\"\"\n",
        "        next_state = problem.result(self.state, action)\n",
        "        next_node = Node(next_state, self, action, problem.path_cost(self.path_cost, self.state, action, next_state))\n",
        "        return next_node\n",
        "\n",
        "    def solution(self):\n",
        "        \"\"\"Return the sequence of actions to go from the root to this node.\"\"\"\n",
        "        return [node.action for node in self.path()[1:]]\n",
        "\n",
        "    def path(self):\n",
        "        \"\"\"Return a list of nodes forming the path from the root to this node.\"\"\"\n",
        "        node, path_back = self, []\n",
        "        while node:\n",
        "            path_back.append(node)\n",
        "            node = node.parent\n",
        "        return list(reversed(path_back))\n",
        "\n",
        "    # We want for a queue of nodes in breadth_first_graph_search or\n",
        "    # astar_search to have no duplicated states, so we treat nodes\n",
        "    # with the same state as equal. [Problem: this may not be what you\n",
        "    # want in other contexts.]\n",
        "\n",
        "    def __eq__(self, other):\n",
        "        return isinstance(other, Node) and self.state == other.state\n",
        "\n",
        "    def __hash__(self):\n",
        "        # We use the hash value of the state\n",
        "        # stored in the node instead of the node\n",
        "        # object itself to quickly search a node\n",
        "        # with the same state in a Hash Table\n",
        "        return hash(self.state)\n",
        "\n",
        "\n",
        "# ______________________________________________________________________________\n",
        "\n",
        "\n",
        "def UndirectedGraph(graph_dict=None):\n",
        "    \"\"\"Build a Graph where every edge (including future ones) goes both ways.\"\"\"\n",
        "    return Graph(graph_dict=graph_dict, directed=False)\n",
        "\n",
        "\n",
        "class Graph:\n",
        "    \"\"\"A graph connects nodes (vertices) by edges (links). Each edge can also\n",
        "    have a length associated with it. The constructor call is something like:\n",
        "        g = Graph({'A': {'B': 1, 'C': 2})\n",
        "    this makes a graph with 3 nodes, A, B, and C, with an edge of length 1 from\n",
        "    A to B,  and an edge of length 2 from A to C. You can also do:\n",
        "        g = Graph({'A': {'B': 1, 'C': 2}, directed=False)\n",
        "    This makes an undirected graph, so inverse links are also added. The graph\n",
        "    stays undirected; if you add more links with g.connect('B', 'C', 3), then\n",
        "    inverse link is also added. You can use g.nodes() to get a list of nodes,\n",
        "    g.get('A') to get a dict of links out of A, and g.get('A', 'B') to get the\n",
        "    length of the link from A to B. 'Lengths' can actually be any object at\n",
        "    all, and nodes can be any hashable object.\"\"\"\n",
        "\n",
        "    def __init__(self, graph_dict=None, directed=True):\n",
        "        self.graph_dict = graph_dict or {}\n",
        "        self.directed = directed\n",
        "        if not directed:\n",
        "            self.make_undirected()\n",
        "\n",
        "    def make_undirected(self):\n",
        "        \"\"\"Make a digraph into an undirected graph by adding symmetric edges.\"\"\"\n",
        "        for a in list(self.graph_dict.keys()):\n",
        "            for (b, dist) in self.graph_dict[a].items():\n",
        "                self.connect1(b, a, dist)\n",
        "\n",
        "    def connect(self, A, B, distance=1):\n",
        "        \"\"\"Add a link from A and B of given distance, and also add the inverse\n",
        "        link if the graph is undirected.\"\"\"\n",
        "        self.connect1(A, B, distance)\n",
        "        if not self.directed:\n",
        "            self.connect1(B, A, distance)\n",
        "\n",
        "    def connect1(self, A, B, distance):\n",
        "        \"\"\"Add a link from A to B of given distance, in one direction only.\"\"\"\n",
        "        self.graph_dict.setdefault(A, {})[B] = distance\n",
        "\n",
        "    def get(self, a, b=None):\n",
        "        \"\"\"Return a link distance or a dict of {node: distance} entries.\n",
        "        .get(a,b) returns the distance or None;\n",
        "        .get(a) returns a dict of {node: distance} entries, possibly {}.\"\"\"\n",
        "        links = self.graph_dict.setdefault(a, {})\n",
        "        if b is None:\n",
        "            return links\n",
        "        else:\n",
        "            return links.get(b)\n",
        "\n",
        "    def nodes(self):\n",
        "        \"\"\"Return a list of nodes in the graph.\"\"\"\n",
        "        s1 = set([k for k in self.graph_dict.keys()])\n",
        "        s2 = set([k2 for v in self.graph_dict.values() for k2, v2 in v.items()])\n",
        "        nodes = s1.union(s2)\n",
        "        return list(nodes)"
      ],
      "execution_count": 1,
      "outputs": []
    },
    {
      "cell_type": "markdown",
      "metadata": {
        "id": "nVRrsdvDhTIQ"
      },
      "source": [
        "Här skapas en definition på ett grafproblem som motsvarar en karta, varje nod innehåller namn och position. Dess heuristiska funktion är definierat som avståndet från noden till målet."
      ]
    },
    {
      "cell_type": "code",
      "metadata": {
        "id": "hCdZhTZ9fTog"
      },
      "source": [
        "#  GRAPHPROBLEM DEFINITION\n",
        "\n",
        "def distance(a, b):\n",
        "    \"\"\"The distance between two (x, y) points.\"\"\"\n",
        "    xA, yA = a\n",
        "    xB, yB = b\n",
        "    return np.hypot((xA - xB), (yA - yB))\n",
        "\n",
        "class GraphProblem(Problem):\n",
        "    \"\"\"The problem of searching a graph from one node to another.\"\"\"\n",
        "\n",
        "    def __init__(self, initial, goal, graph):\n",
        "        super().__init__(initial, goal)\n",
        "        self.graph = graph\n",
        "\n",
        "    def actions(self, A):\n",
        "        \"\"\"The actions at a graph node are just its neighbors.\"\"\"\n",
        "        return list(self.graph.get(A).keys())\n",
        "\n",
        "    def result(self, state, action):\n",
        "        \"\"\"The result of going to a neighbor is just that neighbor.\"\"\"\n",
        "        return action\n",
        "\n",
        "    def path_cost(self, cost_so_far, A, action, B):\n",
        "        return cost_so_far + (self.graph.get(A, B) or np.inf)\n",
        "\n",
        "    def find_min_edge(self):\n",
        "        \"\"\"Find minimum value of edges.\"\"\"\n",
        "        m = np.inf\n",
        "        for d in self.graph.graph_dict.values():\n",
        "            local_min = min(d.values())\n",
        "            m = min(m, local_min)\n",
        "\n",
        "        return m\n",
        "\n",
        "    def h(self, node):\n",
        "        \"\"\"h function is straight-line distance from a node's state to goal.\"\"\"\n",
        "        locs = getattr(self.graph, 'locations', None)\n",
        "        if locs:\n",
        "            if type(node) is str:\n",
        "                return int(distance(locs[node], locs[self.goal]))\n",
        "\n",
        "            return int(distance(locs[node.state], locs[self.goal]))\n",
        "        else:\n",
        "            return np.inf"
      ],
      "execution_count": 2,
      "outputs": []
    },
    {
      "cell_type": "markdown",
      "metadata": {
        "id": "sOoptg2fDU-M"
      },
      "source": [
        "Definitioner för ett litet urval av sökalgoritmer finns här. För att få en en snabb jämförelse har även en rad som skriver ut en stjärna lagts till i varje algoritm."
      ]
    },
    {
      "cell_type": "code",
      "metadata": {
        "id": "ce1HdNCee9IK"
      },
      "source": [
        "# ______________________________________________________________________________\n",
        "# Uninformed Search algorithms\n",
        "\n",
        "def depth_first_graph_search(problem):\n",
        "    \"\"\"\n",
        "    Search the deepest nodes in the search tree first.\n",
        "    Search through the successors of a problem to find a goal.\n",
        "    The argument frontier should be an empty queue.\n",
        "    Does not get trapped by loops.\n",
        "    If two paths reach a state, only use the first one.\n",
        "    \"\"\"\n",
        "    frontier = [(Node(problem.initial))]  # Stack\n",
        "\n",
        "    explored = set()\n",
        "    while frontier:\n",
        "        print('*', end='')\n",
        "        node = frontier.pop()\n",
        "        if problem.goal_test(node.state):\n",
        "            return node\n",
        "        explored.add(node.state)\n",
        "        frontier.extend(child for child in node.expand(problem)\n",
        "                        if child.state not in explored and child not in frontier)\n",
        "    return None\n",
        "\n",
        "\n",
        "def breadth_first_graph_search(problem):\n",
        "    \"\"\"\n",
        "    Note that this function can be implemented in a\n",
        "    single line as below:\n",
        "    return graph_search(problem, FIFOQueue())\n",
        "    \"\"\"\n",
        "    node = Node(problem.initial)\n",
        "    if problem.goal_test(node.state):\n",
        "        return node\n",
        "    frontier = deque([node])\n",
        "    explored = set()\n",
        "    while frontier:\n",
        "        node = frontier.popleft()\n",
        "        explored.add(node.state)\n",
        "        for child in node.expand(problem):\n",
        "            print('*', end='')\n",
        "            if child.state not in explored and child not in frontier:\n",
        "                if problem.goal_test(child.state):\n",
        "                    return child\n",
        "                frontier.append(child)\n",
        "    return None\n",
        "\n",
        "# ______________________________________________________________________________\n",
        "# Informed (Heuristic) Search\n",
        "\n",
        "def recursive_best_first_search(problem, h=None):\n",
        "    h = memoize(h or problem.h, 'h')\n",
        "\n",
        "    def RBFS(problem, node, flimit):\n",
        "        print('*', end='')\n",
        "        if problem.goal_test(node.state):\n",
        "            return node, 0  # (The second value is immaterial)\n",
        "        successors = node.expand(problem)\n",
        "        if len(successors) == 0:\n",
        "            return None, np.inf\n",
        "        for s in successors:\n",
        "            s.f = max(s.path_cost + h(s), node.f)\n",
        "        while True:\n",
        "            # Order by lowest f value\n",
        "            successors.sort(key=lambda x: x.f)\n",
        "            best = successors[0]\n",
        "            if best.f > flimit:\n",
        "                return None, best.f\n",
        "            if len(successors) > 1:\n",
        "                alternative = successors[1].f\n",
        "            else:\n",
        "                alternative = np.inf\n",
        "            result, best.f = RBFS(problem, best, min(flimit, alternative))\n",
        "            if result is not None:\n",
        "                return result, best.f\n",
        "\n",
        "    node = Node(problem.initial)\n",
        "    node.f = h(node)\n",
        "    result, bestf = RBFS(problem, node, np.inf)\n",
        "    return result\n",
        "\n",
        "#help function\n",
        "def memoize(fn, slot=None, maxsize=32):\n",
        "    \"\"\"Memoize fn: make it remember the computed value for any argument list.\n",
        "    If slot is specified, store result in that slot of first argument.\n",
        "    If slot is false, use lru_cache for caching the values.\"\"\"\n",
        "    if slot:\n",
        "        def memoized_fn(obj, *args):\n",
        "            if hasattr(obj, slot):\n",
        "                return getattr(obj, slot)\n",
        "            else:\n",
        "                val = fn(obj, *args)\n",
        "                setattr(obj, slot, val)\n",
        "                return val\n",
        "    else:\n",
        "        @functools.lru_cache(maxsize=maxsize)\n",
        "        def memoized_fn(*args):\n",
        "            return fn(*args)\n",
        "\n",
        "    return memoized_fn"
      ],
      "execution_count": 3,
      "outputs": []
    },
    {
      "cell_type": "markdown",
      "metadata": {
        "id": "jrQje9kPAiiV"
      },
      "source": [
        "Vi skapar en graf som kan användas i ett grafproblem, i deta fall används några kopplade städer i Rumänien\n",
        "![romania_map.jpg](data:image/jpeg;base64,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)"
      ]
    },
    {
      "cell_type": "code",
      "metadata": {
        "id": "m9vRvvdXfcuH"
      },
      "source": [
        "\"\"\" \n",
        "Simplified road map of Romania\n",
        "\"\"\"\n",
        "romania_map = UndirectedGraph(dict(\n",
        "    Arad=dict(Zerind=75, Sibiu=140, Timisoara=118),\n",
        "    Bucharest=dict(Urziceni=85, Pitesti=101, Giurgiu=90, Fagaras=211),\n",
        "    Craiova=dict(Drobeta=120, Rimnicu=146, Pitesti=138),\n",
        "    Drobeta=dict(Mehadia=75),\n",
        "    Eforie=dict(Hirsova=86),\n",
        "    Fagaras=dict(Sibiu=99),\n",
        "    Hirsova=dict(Urziceni=98),\n",
        "    Iasi=dict(Vaslui=92, Neamt=87),\n",
        "    Lugoj=dict(Timisoara=111, Mehadia=70),\n",
        "    Oradea=dict(Zerind=71, Sibiu=151),\n",
        "    Pitesti=dict(Rimnicu=97),\n",
        "    Rimnicu=dict(Sibiu=80),\n",
        "    Urziceni=dict(Vaslui=142)))\n",
        "romania_map.locations = dict(\n",
        "    Arad=(91, 492), Bucharest=(400, 327), Craiova=(253, 288),\n",
        "    Drobeta=(165, 299), Eforie=(562, 293), Fagaras=(305, 449),\n",
        "    Giurgiu=(375, 270), Hirsova=(534, 350), Iasi=(473, 506),\n",
        "    Lugoj=(165, 379), Mehadia=(168, 339), Neamt=(406, 537),\n",
        "    Oradea=(131, 571), Pitesti=(320, 368), Rimnicu=(233, 410),\n",
        "    Sibiu=(207, 457), Timisoara=(94, 410), Urziceni=(456, 350),\n",
        "    Vaslui=(509, 444), Zerind=(108, 531))\n"
      ],
      "execution_count": 4,
      "outputs": []
    },
    {
      "cell_type": "markdown",
      "metadata": {
        "id": "XnjU8v4B5jaQ"
      },
      "source": [
        "Vi skapar ett grafproblem och jämför olika sökmetoder. Du kan ändra start och mål för problemet"
      ]
    },
    {
      "cell_type": "code",
      "metadata": {
        "id": "RtRFF-crv-Ei"
      },
      "source": [
        "romania_problem=GraphProblem('Arad', 'Bucharest', romania_map)"
      ],
      "execution_count": 5,
      "outputs": []
    },
    {
      "cell_type": "code",
      "metadata": {
        "id": "ZiCqCkcG51ug",
        "outputId": "60cbdd99-bb72-4a67-98c3-587f33698cb6",
        "colab": {
          "base_uri": "https://localhost:8080/",
          "height": 0
        }
      },
      "source": [
        "depth = depth_first_graph_search(romania_problem)\n",
        "print()\n",
        "print(depth.solution())\n",
        "print(\"With cost:\", depth.path_cost)"
      ],
      "execution_count": 6,
      "outputs": [
        {
          "output_type": "stream",
          "text": [
            "********\n",
            "['Timisoara', 'Lugoj', 'Mehadia', 'Drobeta', 'Craiova', 'Pitesti', 'Bucharest']\n",
            "With cost: 733\n"
          ],
          "name": "stdout"
        }
      ]
    },
    {
      "cell_type": "code",
      "metadata": {
        "id": "za67MqaW0b5h",
        "outputId": "af4a713d-a46e-40b5-c9c9-5a4a055218ff",
        "colab": {
          "base_uri": "https://localhost:8080/",
          "height": 0
        }
      },
      "source": [
        "breadth = breadth_first_graph_search(romania_problem)\n",
        "print()\n",
        "print(breadth.solution())\n",
        "print(\"With cost:\", breadth.path_cost)"
      ],
      "execution_count": 7,
      "outputs": [
        {
          "output_type": "stream",
          "text": [
            "***************\n",
            "['Sibiu', 'Fagaras', 'Bucharest']\n",
            "With cost: 450\n"
          ],
          "name": "stdout"
        }
      ]
    },
    {
      "cell_type": "code",
      "metadata": {
        "id": "OkjpWk4R7op9",
        "outputId": "9951b855-cfab-4281-cdc4-389b89b9115f",
        "colab": {
          "base_uri": "https://localhost:8080/",
          "height": 0
        }
      },
      "source": [
        "best = recursive_best_first_search(romania_problem, romania_problem.h)\n",
        "print()\n",
        "print(best.solution())\n",
        "print(\"With cost:\", best.path_cost)"
      ],
      "execution_count": 8,
      "outputs": [
        {
          "output_type": "stream",
          "text": [
            "******\n",
            "['Sibiu', 'Rimnicu', 'Pitesti', 'Bucharest']\n",
            "With cost: 418\n"
          ],
          "name": "stdout"
        }
      ]
    },
    {
      "cell_type": "markdown",
      "metadata": {
        "id": "km4tArv4tmcv"
      },
      "source": [
        "# Nytt avsnitt"
      ]
    }
  ]
}